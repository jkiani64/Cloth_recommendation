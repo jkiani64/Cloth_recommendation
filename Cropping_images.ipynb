{
 "cells": [
  {
   "cell_type": "code",
   "execution_count": 6,
   "metadata": {
    "ExecuteTime": {
     "end_time": "2019-11-28T20:49:48.993381Z",
     "start_time": "2019-11-28T20:49:48.937610Z"
    }
   },
   "outputs": [],
   "source": [
    "import os\n",
    "import warnings\n",
    "warnings.simplefilter(action='ignore', category=FutureWarning)\n",
    "import os, time\n",
    "from tqdm import tqdm\n",
    "import numpy as np\n",
    "import pandas as pd\n",
    "import cv2\n",
    "from tqdm import tqdm_notebook, tqdm # Iteration visualization\n",
    "from PIL import Image\n",
    "import matplotlib.pyplot as plt\n",
    "%matplotlib inline\n",
    "import random\n"
   ]
  },
  {
   "cell_type": "code",
   "execution_count": 7,
   "metadata": {
    "ExecuteTime": {
     "end_time": "2019-11-28T20:49:49.210392Z",
     "start_time": "2019-11-28T20:49:49.193316Z"
    }
   },
   "outputs": [],
   "source": [
    "def from_yolo_to_cor(box, img_h, img_w): \n",
    "    x1, y1 = int((box[0] - box[2]/2)*img_w), int((box[1] - box[3]/2)*img_h)\n",
    "    x2, y2 = int((box[0] + box[2]/2)*img_w), int((box[1] + box[3]/2)*img_h)\n",
    "    return x1, y1, x2, y2\n",
    "    \n",
    "def cropping_images(path, new_path,bbox):\n",
    "    # import image\n",
    "    f_image = Image.open(path)\n",
    "    \n",
    "    #Bounding box cordinates\n",
    "    left, top, right, bottom = from_yolo_to_cor(bbox, f_image.size[1], f_image.size[0])\n",
    "#     plt.figure(figsize = (12, 8))    \n",
    "#     img = cv2.imread(path)\n",
    "#     plt.subplot(1, 2,1); plt.imshow(img);\n",
    "     \n",
    "    # Crop the image\n",
    "    f_image = f_image.crop((left, top, right, bottom))\n",
    "    try:\n",
    "        f_image.save(new_path, 'jpeg')\n",
    "    except:\n",
    "        #print(f'Used convertor for {new_path}')\n",
    "        f_image = f_image.convert('RGB')\n",
    "        f_image.save(new_path, 'jpeg')"
   ]
  },
  {
   "cell_type": "code",
   "execution_count": null,
   "metadata": {
    "ExecuteTime": {
     "end_time": "2019-11-28T17:55:28.564059Z",
     "start_time": "2019-11-28T17:55:28.546565Z"
    }
   },
   "outputs": [],
   "source": [
    "# directory = 'data/venus/women/tops/sleeveless/final_images'\n",
    "# os.mkdir('data/venus/women/tops/sleeveless/final_images')"
   ]
  },
  {
   "cell_type": "code",
   "execution_count": 11,
   "metadata": {
    "ExecuteTime": {
     "end_time": "2019-11-28T22:05:55.590450Z",
     "start_time": "2019-11-28T22:05:55.579235Z"
    }
   },
   "outputs": [],
   "source": [
    "directory = 'data/venus/women/tops/cold_shoulder/final_images'\n",
    "all_files = os.listdir(directory + '/bbox_txt')\n",
    "all_files.remove('.DS_Store')"
   ]
  },
  {
   "cell_type": "code",
   "execution_count": 12,
   "metadata": {
    "ExecuteTime": {
     "end_time": "2019-11-28T22:06:17.356131Z",
     "start_time": "2019-11-28T22:05:59.084776Z"
    }
   },
   "outputs": [],
   "source": [
    "for idx, f in enumerate(all_files):\n",
    "    bbox_path = directory + '/bbox_txt/' + f\n",
    "    img_path = directory + '/images/' + f[:-3] + 'jpg'\n",
    "    bbox_file = open(bbox_path, 'r')\n",
    "    bbox_data = bbox_file.readlines()\n",
    "    if len(bbox_data) != 3:\n",
    "        print(idx, f)\n",
    "        break\n",
    "    bbox_data = np.array([[float(box) for box in bbox.split()] for bbox in bbox_data])\n",
    "    assert len(bbox_data) == 3, print(f'The length for {f} is not correct')\n",
    "    assert bbox_data[0][0] != bbox_data[1][0] != bbox_data[2][0], print(f'There are not three classes in {f}')\n",
    "    for box in bbox_data:\n",
    "        new_path = directory + '/Cropped_images/Face/' + f[:-9] + '.jpg'\n",
    "        if box[0] == 1:\n",
    "            new_path = new_path.replace('Cropped_images/Face/','Cropped_images/Upper_cloth/')\n",
    "        elif box[0] == 2:\n",
    "            new_path = new_path.replace('Cropped_images/Face/','Cropped_images/Lower_cloth/')\n",
    "        if int(box[0]) not in [0, 1, 2]: \n",
    "            raise ValueError(f'The class of {box[0]} is not within the pre-defined classes for this image {f}')\n",
    "        cropping_images(img_path, new_path,box[1:])"
   ]
  },
  {
   "cell_type": "code",
   "execution_count": null,
   "metadata": {},
   "outputs": [],
   "source": []
  }
 ],
 "metadata": {
  "kernelspec": {
   "display_name": "Python 3",
   "language": "python",
   "name": "python3"
  },
  "language_info": {
   "codemirror_mode": {
    "name": "ipython",
    "version": 3
   },
   "file_extension": ".py",
   "mimetype": "text/x-python",
   "name": "python",
   "nbconvert_exporter": "python",
   "pygments_lexer": "ipython3",
   "version": "3.7.1"
  },
  "toc": {
   "base_numbering": 1,
   "nav_menu": {},
   "number_sections": true,
   "sideBar": true,
   "skip_h1_title": false,
   "title_cell": "Table of Contents",
   "title_sidebar": "Contents",
   "toc_cell": false,
   "toc_position": {},
   "toc_section_display": true,
   "toc_window_display": false
  },
  "varInspector": {
   "cols": {
    "lenName": 16,
    "lenType": 16,
    "lenVar": 40
   },
   "kernels_config": {
    "python": {
     "delete_cmd_postfix": "",
     "delete_cmd_prefix": "del ",
     "library": "var_list.py",
     "varRefreshCmd": "print(var_dic_list())"
    },
    "r": {
     "delete_cmd_postfix": ") ",
     "delete_cmd_prefix": "rm(",
     "library": "var_list.r",
     "varRefreshCmd": "cat(var_dic_list()) "
    }
   },
   "types_to_exclude": [
    "module",
    "function",
    "builtin_function_or_method",
    "instance",
    "_Feature"
   ],
   "window_display": false
  }
 },
 "nbformat": 4,
 "nbformat_minor": 2
}
