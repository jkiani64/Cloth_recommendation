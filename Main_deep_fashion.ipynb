{
 "cells": [
  {
   "cell_type": "code",
   "execution_count": 19,
   "metadata": {
    "ExecuteTime": {
     "end_time": "2019-11-14T16:03:15.982307Z",
     "start_time": "2019-11-14T16:03:14.712698Z"
    }
   },
   "outputs": [],
   "source": [
    "from PIL import Image\n",
    "import numpy as np\n",
    "import time\n",
    "import os\n",
    "from tqdm import tqdm\n",
    "import pandas as pd"
   ]
  },
  {
   "cell_type": "markdown",
   "metadata": {
    "ExecuteTime": {
     "end_time": "2019-11-14T17:36:59.856149Z",
     "start_time": "2019-11-14T17:36:59.851537Z"
    }
   },
   "source": [
    "# Category and Attribute"
   ]
  },
  {
   "cell_type": "markdown",
   "metadata": {
    "ExecuteTime": {
     "end_time": "2019-11-14T16:42:14.113586Z",
     "start_time": "2019-11-14T16:42:14.106364Z"
    }
   },
   "source": [
    "## Reading boundary box information for each image"
   ]
  },
  {
   "cell_type": "code",
   "execution_count": 131,
   "metadata": {
    "ExecuteTime": {
     "end_time": "2019-11-14T17:12:00.295240Z",
     "start_time": "2019-11-14T17:11:59.031273Z"
    }
   },
   "outputs": [
    {
     "name": "stdout",
     "output_type": "stream",
     "text": [
      "289222\n"
     ]
    }
   ],
   "source": [
    "img_bbox_cat = {}\n",
    "bbox_path = 'data/Category and Attribute Prediction Benchmark/Anno/list_bbox.txt'\n",
    "try:\n",
    "    bbox_file = open(bbox_path, 'r')\n",
    "except Exception:\n",
    "    print('get_bbox() error')\n",
    "bbox_data = bbox_file.readlines()\n",
    "for img_info, idx in zip(bbox_data[2:], range(len(bbox_data)-2)):\n",
    "    temp_list = img_info.split()\n",
    "    img_path = temp_list[0]\n",
    "    img_bbox_cat[img_path] = [int(loc) for loc in temp_list[1:]]\n",
    "print(len(img_bbox_cat))"
   ]
  },
  {
   "cell_type": "markdown",
   "metadata": {
    "ExecuteTime": {
     "end_time": "2019-11-14T16:48:42.879064Z",
     "start_time": "2019-11-14T16:48:42.873633Z"
    }
   },
   "source": [
    "## Reading category information for each image"
   ]
  },
  {
   "cell_type": "code",
   "execution_count": 132,
   "metadata": {
    "ExecuteTime": {
     "end_time": "2019-11-14T17:12:03.474210Z",
     "start_time": "2019-11-14T17:12:02.857103Z"
    }
   },
   "outputs": [
    {
     "name": "stdout",
     "output_type": "stream",
     "text": [
      "289222\n",
      "(array([1, 2, 3]), array([139709,  58963,  90550]))\n"
     ]
    }
   ],
   "source": [
    "category_path = 'data/Category and Attribute Prediction Benchmark/Anno/list_category_img.txt'\n",
    "try:\n",
    "    cat_file = open(category_path, 'r')\n",
    "except Exception:\n",
    "    print('Category file does not exist!')\n",
    "cat_data = cat_file.readlines()\n",
    "for cat_info, idx in zip(cat_data[2:], range(len(cat_data)-2)):\n",
    "    temp_list = cat_info.split()\n",
    "    img_path = temp_list[0]\n",
    "    # 1~20 is upper clothes (1), \n",
    "    # 21~36 is lower clothes(2)\n",
    "    # 37~50 is full-body clothes)(3)\n",
    "    if int(temp_list[1]) < 21:\n",
    "        img_bbox_cat[img_path].append(1)\n",
    "    elif int(temp_list[1]) > 36:\n",
    "        img_bbox_cat[img_path].append(3)\n",
    "    else:\n",
    "        img_bbox_cat[img_path].append(2)\n",
    "print(len(img_bbox_cat))\n",
    "print(np.unique(np.array([lst[-1] for lst in list(img_bbox_cat.values())]), return_counts = True))"
   ]
  },
  {
   "cell_type": "markdown",
   "metadata": {
    "ExecuteTime": {
     "end_time": "2019-11-14T17:19:34.321004Z",
     "start_time": "2019-11-14T17:19:34.315341Z"
    }
   },
   "source": [
    "## Writting the results as a txt file and csv file"
   ]
  },
  {
   "cell_type": "code",
   "execution_count": 138,
   "metadata": {
    "ExecuteTime": {
     "end_time": "2019-11-14T17:26:34.591539Z",
     "start_time": "2019-11-14T17:26:14.281567Z"
    }
   },
   "outputs": [],
   "source": [
    "# Convert the dictionary to a data frame\n",
    "df_img_bbox_cat = pd.DataFrame(img_bbox_cat).T\n",
    "df_img_bbox_cat.to_csv('data_compiled/df_img_bbox_cat.csv')"
   ]
  },
  {
   "cell_type": "code",
   "execution_count": 155,
   "metadata": {
    "ExecuteTime": {
     "end_time": "2019-11-14T18:46:27.816833Z",
     "start_time": "2019-11-14T18:46:26.919313Z"
    }
   },
   "outputs": [],
   "source": [
    "#writting the results into a txt file\n",
    "f = open('data_compiled/img_bbox_cat.txt', 'w')\n",
    "for key,value in img_bbox_cat.items():\n",
    "    line = str(key)\n",
    "    for v in value:\n",
    "        line += \" \" + str(v) \n",
    "    line += '\\n'\n",
    "    f.write(line)\n",
    "f.close()"
   ]
  },
  {
   "cell_type": "markdown",
   "metadata": {
    "ExecuteTime": {
     "end_time": "2019-11-14T18:21:46.246491Z",
     "start_time": "2019-11-14T18:21:46.225289Z"
    }
   },
   "source": [
    "# Consumer-to-shop"
   ]
  },
  {
   "cell_type": "code",
   "execution_count": 154,
   "metadata": {
    "ExecuteTime": {
     "end_time": "2019-11-14T18:45:41.058115Z",
     "start_time": "2019-11-14T18:45:40.241662Z"
    }
   },
   "outputs": [
    {
     "name": "stdout",
     "output_type": "stream",
     "text": [
      "239557\n"
     ]
    }
   ],
   "source": [
    "img_bbox_consumer = {}\n",
    "bbox_path = 'data/Consumer-to-shop Clothes Retrieval Benchmark/Anno/list_bbox_consumer2shop.txt'\n",
    "try:\n",
    "    bbox_file = open(bbox_path, 'r')\n",
    "except Exception:\n",
    "    print('get_bbox() error')\n",
    "bbox_data = bbox_file.readlines()\n",
    "for img_info, idx in zip(bbox_data[2:], range(len(bbox_data)-2)):\n",
    "    temp_list = img_info.split()\n",
    "    img_path = 'Consumer-to-shop Clothes Retrieval Benchmark/Img/' + temp_list[0]\n",
    "    img_bbox_consumer[img_path] = [int(loc) for loc in temp_list[3:]]\n",
    "print(len(img_bbox_consumer))"
   ]
  },
  {
   "cell_type": "code",
   "execution_count": 156,
   "metadata": {
    "ExecuteTime": {
     "end_time": "2019-11-14T18:47:32.856417Z",
     "start_time": "2019-11-14T18:47:32.041906Z"
    }
   },
   "outputs": [],
   "source": [
    "#writting the results into a txt file\n",
    "f = open('data_compiled/img_bbox_consumer.txt', 'w')\n",
    "for key,value in img_bbox_consumer.items():\n",
    "    line = str(key)\n",
    "    for v in value:\n",
    "        line += \" \" + str(v) \n",
    "    line += '\\n'\n",
    "    f.write(line)\n",
    "f.close()"
   ]
  },
  {
   "cell_type": "markdown",
   "metadata": {},
   "source": [
    "# Fashion Landmark Detection"
   ]
  },
  {
   "cell_type": "code",
   "execution_count": 159,
   "metadata": {
    "ExecuteTime": {
     "end_time": "2019-11-14T21:12:44.394902Z",
     "start_time": "2019-11-14T21:12:44.018409Z"
    }
   },
   "outputs": [
    {
     "name": "stdout",
     "output_type": "stream",
     "text": [
      "123016\n"
     ]
    }
   ],
   "source": [
    "img_bbox_landmark = {}\n",
    "bbox_path = 'data/Fashion Landmark Detection Benchmark/Anno/list_bbox.txt'\n",
    "try:\n",
    "    bbox_file = open(bbox_path, 'r')\n",
    "except Exception:\n",
    "    print('get_bbox() error')\n",
    "bbox_data = bbox_file.readlines()\n",
    "for img_info, idx in zip(bbox_data[2:], range(len(bbox_data)-2)):\n",
    "    temp_list = img_info.split()\n",
    "    img_path = 'Fashion Landmark Detection Benchmark/' + temp_list[0]\n",
    "    img_bbox_landmark[img_path] = [int(loc) for loc in temp_list[1:]]\n",
    "print(len(img_bbox_landmark))"
   ]
  },
  {
   "cell_type": "code",
   "execution_count": 161,
   "metadata": {
    "ExecuteTime": {
     "end_time": "2019-11-14T21:15:17.882970Z",
     "start_time": "2019-11-14T21:15:17.484095Z"
    }
   },
   "outputs": [],
   "source": [
    "#writting the results into a txt file\n",
    "f = open('data_compiled/img_bbox_landmark.txt', 'w')\n",
    "for key,value in img_bbox_landmark.items():\n",
    "    line = str(key)\n",
    "    for v in value:\n",
    "        line += \" \" + str(v) \n",
    "    line += '\\n'\n",
    "    f.write(line)\n",
    "f.close()"
   ]
  },
  {
   "cell_type": "code",
   "execution_count": 162,
   "metadata": {
    "ExecuteTime": {
     "end_time": "2019-11-15T01:51:11.937344Z",
     "start_time": "2019-11-15T01:51:11.682289Z"
    }
   },
   "outputs": [
    {
     "ename": "ModuleNotFoundError",
     "evalue": "No module named 'data_aug'",
     "output_type": "error",
     "traceback": [
      "\u001b[0;31m---------------------------------------------------------------------------\u001b[0m",
      "\u001b[0;31mModuleNotFoundError\u001b[0m                       Traceback (most recent call last)",
      "\u001b[0;32m<ipython-input-162-f75f004a2fa6>\u001b[0m in \u001b[0;36m<module>\u001b[0;34m\u001b[0m\n\u001b[0;32m----> 1\u001b[0;31m \u001b[0;32mfrom\u001b[0m \u001b[0mdata_aug\u001b[0m\u001b[0;34m.\u001b[0m\u001b[0mdata_aug\u001b[0m \u001b[0;32mimport\u001b[0m \u001b[0;34m*\u001b[0m\u001b[0;34m\u001b[0m\u001b[0;34m\u001b[0m\u001b[0m\n\u001b[0m\u001b[1;32m      2\u001b[0m \u001b[0;32mfrom\u001b[0m \u001b[0mdata_aug\u001b[0m\u001b[0;34m.\u001b[0m\u001b[0mbbox_util\u001b[0m \u001b[0;32mimport\u001b[0m \u001b[0;34m*\u001b[0m\u001b[0;34m\u001b[0m\u001b[0;34m\u001b[0m\u001b[0m\n\u001b[1;32m      3\u001b[0m \u001b[0;32mimport\u001b[0m \u001b[0mnumpy\u001b[0m \u001b[0;32mas\u001b[0m \u001b[0mnp\u001b[0m\u001b[0;34m\u001b[0m\u001b[0;34m\u001b[0m\u001b[0m\n\u001b[1;32m      4\u001b[0m \u001b[0;32mimport\u001b[0m \u001b[0mcv2\u001b[0m\u001b[0;34m\u001b[0m\u001b[0;34m\u001b[0m\u001b[0m\n\u001b[1;32m      5\u001b[0m \u001b[0;32mimport\u001b[0m \u001b[0mmatplotlib\u001b[0m\u001b[0;34m.\u001b[0m\u001b[0mpyplot\u001b[0m \u001b[0;32mas\u001b[0m \u001b[0mplt\u001b[0m\u001b[0;34m\u001b[0m\u001b[0;34m\u001b[0m\u001b[0m\n",
      "\u001b[0;31mModuleNotFoundError\u001b[0m: No module named 'data_aug'"
     ]
    }
   ],
   "source": [
    "from data_aug.data_aug import *\n",
    "from data_aug.bbox_util import *\n",
    "import numpy as np \n",
    "import cv2 \n",
    "import matplotlib.pyplot as plt \n",
    "import pickle as pkl\n",
    "%matplotlib inline"
   ]
  },
  {
   "cell_type": "code",
   "execution_count": 163,
   "metadata": {
    "ExecuteTime": {
     "end_time": "2019-11-15T01:51:36.666322Z",
     "start_time": "2019-11-15T01:51:33.922320Z"
    }
   },
   "outputs": [
    {
     "name": "stdout",
     "output_type": "stream",
     "text": [
      "Collecting data_aug\n",
      "\u001b[31m  Could not find a version that satisfies the requirement data_aug (from versions: )\u001b[0m\n",
      "\u001b[31mNo matching distribution found for data_aug\u001b[0m\n"
     ]
    }
   ],
   "source": [
    "!pip install data_aug"
   ]
  },
  {
   "cell_type": "code",
   "execution_count": null,
   "metadata": {},
   "outputs": [],
   "source": []
  },
  {
   "cell_type": "code",
   "execution_count": null,
   "metadata": {},
   "outputs": [],
   "source": []
  },
  {
   "cell_type": "code",
   "execution_count": null,
   "metadata": {},
   "outputs": [],
   "source": []
  }
 ],
 "metadata": {
  "kernelspec": {
   "display_name": "Python 3",
   "language": "python",
   "name": "python3"
  },
  "language_info": {
   "codemirror_mode": {
    "name": "ipython",
    "version": 3
   },
   "file_extension": ".py",
   "mimetype": "text/x-python",
   "name": "python",
   "nbconvert_exporter": "python",
   "pygments_lexer": "ipython3",
   "version": "3.7.1"
  },
  "toc": {
   "base_numbering": 1,
   "nav_menu": {},
   "number_sections": true,
   "sideBar": true,
   "skip_h1_title": false,
   "title_cell": "Table of Contents",
   "title_sidebar": "Contents",
   "toc_cell": false,
   "toc_position": {},
   "toc_section_display": true,
   "toc_window_display": false
  },
  "varInspector": {
   "cols": {
    "lenName": 16,
    "lenType": 16,
    "lenVar": 40
   },
   "kernels_config": {
    "python": {
     "delete_cmd_postfix": "",
     "delete_cmd_prefix": "del ",
     "library": "var_list.py",
     "varRefreshCmd": "print(var_dic_list())"
    },
    "r": {
     "delete_cmd_postfix": ") ",
     "delete_cmd_prefix": "rm(",
     "library": "var_list.r",
     "varRefreshCmd": "cat(var_dic_list()) "
    }
   },
   "types_to_exclude": [
    "module",
    "function",
    "builtin_function_or_method",
    "instance",
    "_Feature"
   ],
   "window_display": false
  }
 },
 "nbformat": 4,
 "nbformat_minor": 2
}
