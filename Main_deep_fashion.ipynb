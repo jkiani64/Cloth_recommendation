{
 "cells": [
  {
   "cell_type": "code",
   "execution_count": 47,
   "metadata": {
    "ExecuteTime": {
     "end_time": "2019-12-18T23:32:00.852150Z",
     "start_time": "2019-12-18T23:31:56.132915Z"
    }
   },
   "outputs": [],
   "source": [
    "import warnings\n",
    "warnings.simplefilter(action='ignore', category=FutureWarning)\n",
    "import os, time\n",
    "from tqdm import tqdm\n",
    "import numpy as np, pandas as pd\n",
    "import cv2\n",
    "from tqdm import tqdm_notebook, tqdm # Iteration visualization\n",
    "from PIL import Image\n",
    "import matplotlib.pyplot as plt\n",
    "%matplotlib inline\n",
    "import random\n",
    "from sklearn.model_selection import train_test_split\n",
    "from utility import *"
   ]
  },
  {
   "cell_type": "markdown",
   "metadata": {
    "ExecuteTime": {
     "end_time": "2019-11-14T17:36:59.856149Z",
     "start_time": "2019-11-14T17:36:59.851537Z"
    }
   },
   "source": [
    "# Prepearing Images and Files for YOLO Training"
   ]
  },
  {
   "cell_type": "markdown",
   "metadata": {
    "ExecuteTime": {
     "end_time": "2019-12-18T23:53:02.918171Z",
     "start_time": "2019-12-18T23:53:02.913327Z"
    }
   },
   "source": [
    "## Reading boundary box information for each image"
   ]
  },
  {
   "cell_type": "code",
   "execution_count": 62,
   "metadata": {
    "ExecuteTime": {
     "end_time": "2019-12-18T23:53:19.834646Z",
     "start_time": "2019-12-18T23:53:19.827013Z"
    }
   },
   "outputs": [],
   "source": [
    "# Reading boundary box information for each image\n",
    "img_bbox_cat = {}\n",
    "bbox_path = 'data/Anno/list_bbox.txt'\n",
    "try:\n",
    "    bbox_file = open(bbox_path, 'r')\n",
    "except Exception:\n",
    "    raise ValueError('There is no such a file in the directory')\n",
    "bbox_data = bbox_file.readlines()\n",
    "for img_info, idx in zip(bbox_data[2:], range(len(bbox_data)-2)):\n",
    "    temp_list = img_info.split()\n",
    "    img_path = temp_list[0][4:]\n",
    "    img_bbox_cat[img_path] = [int(loc) for loc in temp_list[1:]]\n",
    "print(len(img_bbox_cat))\n",
    "\n",
    "# Reading category information for each image\n",
    "category_path = 'data/Anno/list_category_img.txt'\n",
    "try:\n",
    "    cat_file = open(category_path, 'r')\n",
    "except Exception:\n",
    "    print('Category file does not exist!')\n",
    "cat_data = cat_file.readlines()\n",
    "for cat_info, idx in zip(cat_data[2:], range(len(cat_data)-2)):\n",
    "    temp_list = cat_info.split()\n",
    "    img_path = temp_list[0][4:]\n",
    "    # 1~20 is upper clothes (0),\n",
    "    # 21~36 is lower clothes(1)\n",
    "    # 37~50 is full-body clothes)(2)\n",
    "    if int(temp_list[1]) < 21:\n",
    "        img_bbox_cat[img_path].append(0)\n",
    "    elif int(temp_list[1]) > 36:\n",
    "        img_bbox_cat[img_path].append(2)\n",
    "    else:\n",
    "        img_bbox_cat[img_path].append(1)\n",
    "print(len(img_bbox_cat))\n",
    "print(np.unique(np.array(\n",
    "    [lst[-1] for lst in list(img_bbox_cat.values())]), return_counts=True))\n",
    "\n",
    "\n",
    "# Writting the results as a txt file and csv file\n",
    "Convert the dictionary to a data frame\n",
    "df_img_bbox_cat = pd.DataFrame(img_bbox_cat).T.reset_index()\n",
    "df_img_bbox_cat.columns = ['path', 'x_1', 'y_1', 'x_2', 'y_2', 'class']\n",
    "df_img_bbox_cat.to_csv('data_compiled/df_img_bbox_cat.csv', index = False)\n",
    "\n",
    "#writting the results into a txt file\n",
    "f = open('data_compiled/img_bbox_cat.txt', 'w')\n",
    "for key,value in img_bbox_cat.items():\n",
    "    line = str(key)\n",
    "    for v in value:\n",
    "        line += \" \" + str(v) \n",
    "    line += '\\n'\n",
    "    f.write(line)\n",
    "f.close()\n",
    "\n",
    "# Preparing data for training YOLO_v3.\n",
    "df_img_info = pd.read_csv('data_compiled/df_img_bbox_cat.csv')\n",
    "print(df_img_info.shape)\n",
    "df_img_info.head()\n",
    "\n",
    "df_img_info['x'], df_img_info['y'], df_img_info['width'], df_img_info['height'] =\\\n",
    "zip(*df_img_info.apply(\n",
    "    lambda row: convert_labels(row['path'], row['x_1'], row['y_1'],\n",
    "                               row['x_2'], row['y_2']), axis=1))\n",
    "df_img_info.to_csv('data_compiled/df_img_info.csv', index=False)\n",
    "df_img_info.head()"
   ]
  },
  {
   "cell_type": "markdown",
   "metadata": {
    "ExecuteTime": {
     "end_time": "2019-12-18T23:54:12.694542Z",
     "start_time": "2019-12-18T23:54:12.689313Z"
    }
   },
   "source": [
    "## Cropping images"
   ]
  },
  {
   "cell_type": "code",
   "execution_count": 64,
   "metadata": {
    "ExecuteTime": {
     "end_time": "2019-12-18T23:57:57.942182Z",
     "start_time": "2019-12-18T23:57:57.934753Z"
    }
   },
   "outputs": [],
   "source": [
    "df_img_info = pd.read_csv('data_compiled/df_img_info.csv')\n",
    "\n",
    "#Removing class 2 from dataset\n",
    "df_img_info_wo_class2 = df_img_info.loc[df_img_info['class'] != 2]\n",
    "\n",
    "#Cropping images\n",
    "df_img_info_wo_class2['x_crop'], df_img_info_wo_class2['y_crop'],\\\n",
    "    df_img_info_wo_class2['width_crop'], df_img_info_wo_class2['height_crop'] =\\\n",
    "    zip(*df_img_info_wo_class2.progress_apply(\n",
    "        lambda row: cropping_images(row['path'], row['x'], row['y'],\n",
    "                                    row['width'], row['height']), axis=1))\n",
    "\n",
    "#Writting the data for the cropped images into csv file\n",
    "df_img_info_wo_class2.to_csv(\n",
    "    'data_compiled/df_img_info_wo_class2_corpped.csv', index=False)\n",
    "\n",
    "#Generating txt files for yolo model\n",
    "df_img_info['class'] = df_img_info['class'].astype(str)\n",
    "for path, row in zip(df_img_info['path'].values, df_img_info[['class', 'x', 'y', 'width', 'height']].values):\n",
    "    file_name = path[:-3] + 'txt'\n",
    "    row.tofile(file_name, sep=\" \", format=\"%s\")\n",
    "\n",
    "\n",
    "df_img_info_wo_class2['class'] = df_img_info_wo_class2['class'].astype(str)\n",
    "for path, row in zip(df_img_info_wo_class2['path'].values, df_img_info_wo_class2[['class', 'x_crop', 'y_crop', 'width_crop', 'height_crop']].values):\n",
    "    file_name = path[:-4] + '_crop.txt'\n",
    "    row.tofile(file_name, sep=\" \", format=\"%s\")\n",
    "\n",
    "# dividing the data into train and test datasets\n",
    "df_train, df_test = train_test_split(\n",
    "    df_img_info_wo_class2, train_size=0.9, stratify=df_img_info_wo_class2['class'])\n",
    "\n",
    "np.savetxt('data_compiled/train_cloth_crop.txt',\n",
    "           df_train['new_path'].values, fmt='%s')\n",
    "np.savetxt('data_compiled/test_cloth_crop.txt',\n",
    "           df_test['new_path'].values, fmt='%s')"
   ]
  },
  {
   "cell_type": "code",
   "execution_count": null,
   "metadata": {},
   "outputs": [],
   "source": []
  }
 ],
 "metadata": {
  "kernelspec": {
   "display_name": "Python 3",
   "language": "python",
   "name": "python3"
  },
  "language_info": {
   "codemirror_mode": {
    "name": "ipython",
    "version": 3
   },
   "file_extension": ".py",
   "mimetype": "text/x-python",
   "name": "python",
   "nbconvert_exporter": "python",
   "pygments_lexer": "ipython3",
   "version": "3.7.1"
  },
  "toc": {
   "base_numbering": 1,
   "nav_menu": {},
   "number_sections": true,
   "sideBar": true,
   "skip_h1_title": false,
   "title_cell": "Table of Contents",
   "title_sidebar": "Contents",
   "toc_cell": false,
   "toc_position": {},
   "toc_section_display": true,
   "toc_window_display": false
  },
  "varInspector": {
   "cols": {
    "lenName": 16,
    "lenType": 16,
    "lenVar": 40
   },
   "kernels_config": {
    "python": {
     "delete_cmd_postfix": "",
     "delete_cmd_prefix": "del ",
     "library": "var_list.py",
     "varRefreshCmd": "print(var_dic_list())"
    },
    "r": {
     "delete_cmd_postfix": ") ",
     "delete_cmd_prefix": "rm(",
     "library": "var_list.r",
     "varRefreshCmd": "cat(var_dic_list()) "
    }
   },
   "types_to_exclude": [
    "module",
    "function",
    "builtin_function_or_method",
    "instance",
    "_Feature"
   ],
   "window_display": false
  }
 },
 "nbformat": 4,
 "nbformat_minor": 2
}
