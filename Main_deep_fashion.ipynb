{
 "cells": [
  {
   "cell_type": "code",
   "execution_count": null,
   "metadata": {
    "ExecuteTime": {
     "end_time": "2019-11-22T00:53:03.563011Z",
     "start_time": "2019-11-22T00:53:01.635387Z"
    }
   },
   "outputs": [],
   "source": [
    "import warnings\n",
    "warnings.simplefilter(action='ignore', category=FutureWarning)\n",
    "import os, time\n",
    "from tqdm import tqdm\n",
    "import numpy as np, pandas as pd\n",
    "import cv2\n",
    "from tqdm import tqdm_notebook, tqdm # Iteration visualization\n",
    "tqdm.pandas(desc=\"Loading\") # to do progress_apply for pandas\n",
    "from PIL import Image\n",
    "import matplotlib.pyplot as plt\n",
    "%matplotlib inline\n",
    "import random\n",
    "from sklearn.model_selection import train_test_split"
   ]
  },
  {
   "cell_type": "markdown",
   "metadata": {
    "ExecuteTime": {
     "end_time": "2019-11-14T17:36:59.856149Z",
     "start_time": "2019-11-14T17:36:59.851537Z"
    }
   },
   "source": [
    "# Category and Attribute"
   ]
  },
  {
   "cell_type": "markdown",
   "metadata": {
    "ExecuteTime": {
     "end_time": "2019-11-14T16:42:14.113586Z",
     "start_time": "2019-11-14T16:42:14.106364Z"
    }
   },
   "source": [
    "## Reading boundary box information for each image"
   ]
  },
  {
   "cell_type": "code",
   "execution_count": null,
   "metadata": {
    "ExecuteTime": {
     "end_time": "2019-11-19T14:44:21.756622Z",
     "start_time": "2019-11-19T14:44:20.866248Z"
    }
   },
   "outputs": [],
   "source": [
    "wd =  'C:/darknet-master/darknet-master/build/darknet/x64/data/cloth/'\n",
    "img_bbox_cat = {}\n",
    "bbox_path = wd + 'Anno/list_bbox.txt'\n",
    "try:\n",
    "    bbox_file = open(bbox_path, 'r')\n",
    "except Exception:\n",
    "    raise ValueError('There is no such a file in the directory')\n",
    "bbox_data = bbox_file.readlines()\n",
    "for img_info, idx in zip(bbox_data[2:], range(len(bbox_data)-2)):\n",
    "    temp_list = img_info.split()\n",
    "    img_path = wd + temp_list[0][4:]\n",
    "    img_bbox_cat[img_path] = [int(loc) for loc in temp_list[1:]]\n",
    "print(len(img_bbox_cat))"
   ]
  },
  {
   "cell_type": "markdown",
   "metadata": {
    "ExecuteTime": {
     "end_time": "2019-11-14T16:48:42.879064Z",
     "start_time": "2019-11-14T16:48:42.873633Z"
    }
   },
   "source": [
    "## Reading category information for each image"
   ]
  },
  {
   "cell_type": "code",
   "execution_count": null,
   "metadata": {
    "ExecuteTime": {
     "end_time": "2019-11-19T14:44:25.645554Z",
     "start_time": "2019-11-19T14:44:25.118279Z"
    }
   },
   "outputs": [],
   "source": [
    "category_path = wd + 'Anno/list_category_img.txt'\n",
    "try:\n",
    "    cat_file = open(category_path, 'r')\n",
    "except Exception:\n",
    "    print('Category file does not exist!')\n",
    "cat_data = cat_file.readlines()\n",
    "for cat_info, idx in zip(cat_data[2:], range(len(cat_data)-2)):\n",
    "    temp_list = cat_info.split()\n",
    "    img_path = wd + temp_list[0][4:]\n",
    "    # 1~20 is upper clothes (0), \n",
    "    # 21~36 is lower clothes(1)\n",
    "    # 37~50 is full-body clothes)(2)\n",
    "    if int(temp_list[1]) < 21:\n",
    "        img_bbox_cat[img_path].append(0)\n",
    "    elif int(temp_list[1]) > 36:\n",
    "        img_bbox_cat[img_path].append(2)\n",
    "    else:\n",
    "        img_bbox_cat[img_path].append(1)\n",
    "print(len(img_bbox_cat))\n",
    "print(np.unique(np.array([lst[-1] for lst in list(img_bbox_cat.values())]), return_counts = True))"
   ]
  },
  {
   "cell_type": "markdown",
   "metadata": {
    "ExecuteTime": {
     "end_time": "2019-11-14T17:19:34.321004Z",
     "start_time": "2019-11-14T17:19:34.315341Z"
    }
   },
   "source": [
    "## Writting the results as a txt file and csv file"
   ]
  },
  {
   "cell_type": "code",
   "execution_count": null,
   "metadata": {
    "ExecuteTime": {
     "end_time": "2019-11-19T14:44:48.256267Z",
     "start_time": "2019-11-19T14:44:33.535662Z"
    }
   },
   "outputs": [],
   "source": [
    "# Convert the dictionary to a data frame\n",
    "df_img_bbox_cat = pd.DataFrame(img_bbox_cat).T.reset_index()\n",
    "df_img_bbox_cat.columns = ['path', 'x_1', 'y_1', 'x_2', 'y_2', 'class']\n",
    "df_img_bbox_cat.to_csv('data_compiled/df_img_bbox_cat.csv', index = False)"
   ]
  },
  {
   "cell_type": "code",
   "execution_count": null,
   "metadata": {
    "ExecuteTime": {
     "end_time": "2019-11-19T14:44:49.467215Z",
     "start_time": "2019-11-19T14:44:48.256267Z"
    }
   },
   "outputs": [],
   "source": [
    "#writting the results into a txt file\n",
    "f = open('data_compiled/img_bbox_cat.txt', 'w')\n",
    "for key,value in img_bbox_cat.items():\n",
    "    line = str(key)\n",
    "    for v in value:\n",
    "        line += \" \" + str(v) \n",
    "    line += '\\n'\n",
    "    f.write(line)\n",
    "f.close()"
   ]
  },
  {
   "cell_type": "markdown",
   "metadata": {},
   "source": [
    "# Preparing data for training YOLO_v3."
   ]
  },
  {
   "cell_type": "code",
   "execution_count": null,
   "metadata": {
    "ExecuteTime": {
     "end_time": "2019-11-19T14:44:50.033078Z",
     "start_time": "2019-11-19T14:44:49.467215Z"
    }
   },
   "outputs": [],
   "source": [
    "df_img_info = pd.read_csv('data_compiled\\df_img_bbox_cat.csv')\n",
    "print(df_img_info.shape)\n",
    "df_img_info.head()"
   ]
  },
  {
   "cell_type": "code",
   "execution_count": null,
   "metadata": {
    "ExecuteTime": {
     "end_time": "2019-11-19T14:45:04.612057Z",
     "start_time": "2019-11-19T14:45:04.597123Z"
    },
    "code_folding": []
   },
   "outputs": [],
   "source": [
    "def convert_labels(path, x1, y1, x2, y2):\n",
    "    \"\"\"\n",
    "    Definition: Parses label files to extract label and bounding box\n",
    "        coordinates.  Converts (x1, y1, x1, y2) KITTI format to\n",
    "        (x, y, width, height) normalized YOLO format.\n",
    "    \"\"\"\n",
    "    def sorting(l1, l2):\n",
    "        if l1 > l2:\n",
    "            lmax, lmin = l1, l2\n",
    "            return lmax, lmin\n",
    "        else:\n",
    "            lmax, lmin = l2, l1\n",
    "            return lmax, lmin\n",
    "    size = get_img_shape(path)\n",
    "    height, width = size[:2]\n",
    "    max_height = 300\n",
    "    max_width = 300\n",
    "    scaling_factor = 1\n",
    "    if max_height < height or max_width < width:\n",
    "        # get scaling factor\n",
    "        scaling_factor = max_height / float(height)\n",
    "        if max_width/float(width) < scaling_factor:\n",
    "            scaling_factor = max_width / float(width)\n",
    "    x1 = int(x1/scaling_factor)\n",
    "    y1 = int(y1/scaling_factor)  \n",
    "    x2 = int(x2/scaling_factor)  \n",
    "    y2 = int(y2/scaling_factor)  \n",
    "    xmax, xmin = sorting(x1, x2)\n",
    "    ymax, ymin = sorting(y1, y2)\n",
    "    dw = 1./size[1]\n",
    "    dh = 1./size[0]\n",
    "    x = (xmin + xmax)/2.0\n",
    "    y = (ymin + ymax)/2.0\n",
    "    w = xmax - xmin\n",
    "    h = ymax - ymin\n",
    "    x = x*dw\n",
    "    w = w*dw\n",
    "    y = y*dh\n",
    "    h = h*dh\n",
    "    return (x,y,w,h)\n",
    "def get_img_shape(path):\n",
    "    img = cv2.imread(path)\n",
    "    try:\n",
    "        return img.shape\n",
    "    except Exception:\n",
    "        raise ValueError(f'There is no {path}')"
   ]
  },
  {
   "cell_type": "code",
   "execution_count": null,
   "metadata": {
    "ExecuteTime": {
     "end_time": "2019-11-19T15:27:23.790992Z",
     "start_time": "2019-11-19T14:45:25.078522Z"
    }
   },
   "outputs": [],
   "source": [
    "df_img_info['x'], df_img_info['y'], df_img_info['width'], df_img_info['height'] =\\\n",
    "zip(*df_img_info.progress_apply(\n",
    "    lambda row: convert_labels(row['path'], row['x_1'], row['y_1'],\n",
    "                               row['x_2'], row['y_2']), axis=1))\n",
    "df_img_info.to_csv('data_compiled/df_img_info.csv', index=False)\n",
    "df_img_info.head()"
   ]
  },
  {
   "cell_type": "code",
   "execution_count": 1,
   "metadata": {
    "ExecuteTime": {
     "end_time": "2019-11-22T03:26:16.404430Z",
     "start_time": "2019-11-22T03:26:11.472539Z"
    }
   },
   "outputs": [],
   "source": [
    "import warnings\n",
    "warnings.simplefilter(action='ignore', category=FutureWarning)\n",
    "import os, time\n",
    "from tqdm import tqdm\n",
    "import numpy as np, pandas as pd\n",
    "import cv2\n",
    "from tqdm import tqdm_notebook, tqdm # Iteration visualization\n",
    "tqdm.pandas(desc=\"Loading\") # to do progress_apply for pandas\n",
    "from PIL import Image\n",
    "import matplotlib.pyplot as plt\n",
    "%matplotlib inline\n",
    "import random\n",
    "from sklearn.model_selection import train_test_split\n",
    "def from_yolo_to_cor(box, img_h, img_w): \n",
    "    x1, y1 = int((box[0] - box[2]/2)*img_w), int((box[1] - box[3]/2)*img_h)\n",
    "    x2, y2 = int((box[0] + box[2]/2)*img_w), int((box[1] + box[3]/2)*img_h)\n",
    "    return x1, y1, x2, y2\n",
    "    \n",
    "def draw_boxes(path, boxes, original = False):\n",
    "    img = cv2.imread(path)\n",
    "    print(img.shape)\n",
    "    print(boxes)\n",
    "    plt.figure(figsize = (12, 6))\n",
    "    if original == False:\n",
    "        x1, y1, x2, y2 = from_yolo_to_cor(boxes, img.shape[0], img.shape[1])\n",
    "    else:\n",
    "        x1, y1, x2, y2 = boxes\n",
    "    cv2.rectangle(img, (x1, y1), (x2, y2), (0,0,255), 3)\n",
    "    plt.subplot(1,1, 1), plt.imshow(img)"
   ]
  },
  {
   "cell_type": "code",
   "execution_count": 2,
   "metadata": {
    "ExecuteTime": {
     "end_time": "2019-11-22T03:26:16.418367Z",
     "start_time": "2019-11-22T03:26:16.406420Z"
    }
   },
   "outputs": [],
   "source": [
    "def cropping_images(path,x_0,y_0,width_0,heigh_0):\n",
    "    bbox = [x_0,y_0,width_0,heigh_0]\n",
    "    # import image\n",
    "    f_image = Image.open(path)\n",
    "    \n",
    "    #Bounding box cordinates\n",
    "    x_1, y_1, x_2, y_2 = from_yolo_to_cor(bbox, f_image.size[1], f_image.size[0])\n",
    "#     plt.figure(figsize = (12, 8))    \n",
    "#     img = cv2.imread(path)\n",
    "#     cv2.rectangle(img, (x_1, y_1), (x_2, y_2), (255,0,0), 3)\n",
    "#     plt.subplot(1, 2,1); plt.imshow(img);\n",
    "    \n",
    "    box_height = y_2 - y_1\n",
    "    box_width = x_2 - x_1\n",
    "\n",
    "    # get width and height of image\n",
    "    width, height = f_image.size\n",
    "\n",
    "    # crop image randomly around bouding box within a 0.3 * bbox extra range\n",
    "    rnd_n = random.random() * 0.15 + 0.05\n",
    "    left = max(0, x_1 - round(rnd_n * box_width))\n",
    "    \n",
    "    rnd_n = (random.random() * 0.15 + 0.05)\n",
    "    right = min(x_2 + round(rnd_n * box_width), width)\n",
    "\n",
    "    \n",
    "    rnd_n = random.random() * 0.15 + 0.05\n",
    "    top = max(0, y_1 - round(rnd_n * box_height))\n",
    "    \n",
    "    rnd_n = random.random() * 0.15 + 0.05\n",
    "    bottom = min(y_2 + round(rnd_n * box_height), height)\n",
    "    \n",
    "    # Crop the image\n",
    "    f_image = f_image.crop((left, top, right, bottom))\n",
    "    \n",
    "    _width, _height = width, height\n",
    "    width, height = f_image.size\n",
    "    \n",
    "    #f_image.show()\n",
    "    new_path = path[:-4] + '_crop' + '.jpg'\n",
    "    #f_image.save(new_path, 'jpeg')\n",
    "    try:\n",
    "        f_image.save(new_path, 'jpeg')\n",
    "    except:\n",
    "        #print(f'Used convertor for {new_path}')\n",
    "        f_image = f_image.convert('RGB')\n",
    "        f_image.save(new_path, 'jpeg')\n",
    "\n",
    "    # List of normalized left x coordinates in bounding box (1 per box)\n",
    "    xmins = (x_1 - left) / width\n",
    "    # List of normalized right x coordinates in bounding box (1 per box)\n",
    "    xmaxs = (x_2 - left) / width\n",
    "    # List of normalized top y coordinates in bounding box (1 per box)\n",
    "    ymins = (y_1 - top) / height\n",
    "    # List of normalized bottom y coordinates in bounding box (1 per box)\n",
    "    ymaxs = (y_2 - top) / height\n",
    "    \n",
    "    x_middle = (xmins + xmaxs) / 2\n",
    "    y_middle = (ymins + ymaxs) / 2\n",
    "    bbox_width = (xmaxs - xmins)\n",
    "    bbox_height = (ymaxs - ymins)\n",
    "    \n",
    "    bbox_new = (x_middle, y_middle, bbox_width, bbox_height)\n",
    "\n",
    "#    assert (xmins >= 0.) and (xmaxs < 1.01) and (ymins >= 0.) and (ymaxs < 1.01), print(path)\n",
    "#     img = cv2.imread(new_path)   \n",
    "#     x_1, y_1, x_2, y_2 = from_yolo_to_cor(bbox_new, img.shape[0], img.shape[1])\n",
    "#     cv2.rectangle(img, (x_1, y_1), (x_2, y_2), (255,0,0), 3)\n",
    "#     plt.subplot(1, 2,2); plt.imshow(img);\n",
    "    \n",
    "    return bbox_new"
   ]
  },
  {
   "cell_type": "code",
   "execution_count": null,
   "metadata": {
    "ExecuteTime": {
     "end_time": "2019-11-22T01:05:04.500748Z",
     "start_time": "2019-11-22T01:05:04.496764Z"
    }
   },
   "outputs": [],
   "source": [
    "# idx = 2204\n",
    "# cropping_images(df_img_info.loc[idx, 'path'],df_img_info.loc[idx, 'x'],\n",
    "#                 df_img_info.loc[idx, 'y'],\n",
    "#                 df_img_info.loc[idx, 'width'],\n",
    "#                 df_img_info.loc[idx, 'height'])"
   ]
  },
  {
   "cell_type": "code",
   "execution_count": 3,
   "metadata": {
    "ExecuteTime": {
     "end_time": "2019-11-22T03:26:45.500871Z",
     "start_time": "2019-11-22T03:26:44.793974Z"
    }
   },
   "outputs": [],
   "source": [
    "df_img_info = pd.read_csv('data_compiled/df_img_info.csv')\n",
    "df_img_info_wo_class2 = df_img_info.loc[df_img_info['class'] != 2]"
   ]
  },
  {
   "cell_type": "code",
   "execution_count": 5,
   "metadata": {
    "ExecuteTime": {
     "end_time": "2019-11-22T03:53:57.014598Z",
     "start_time": "2019-11-22T03:29:12.184229Z"
    }
   },
   "outputs": [
    {
     "name": "stderr",
     "output_type": "stream",
     "text": [
      "Loading: 100%|██████████| 198672/198672 [24:44<00:00, 133.82it/s]\n",
      "C:\\Users\\jkiani\\AppData\\Local\\Continuum\\anaconda3\\envs\\tf-2\\lib\\site-packages\\ipykernel_launcher.py:5: SettingWithCopyWarning: \n",
      "A value is trying to be set on a copy of a slice from a DataFrame.\n",
      "Try using .loc[row_indexer,col_indexer] = value instead\n",
      "\n",
      "See the caveats in the documentation: http://pandas.pydata.org/pandas-docs/stable/user_guide/indexing.html#returning-a-view-versus-a-copy\n",
      "  \"\"\"\n"
     ]
    }
   ],
   "source": [
    "df_img_info_wo_class2['x_crop'], df_img_info_wo_class2['y_crop'],\\\n",
    "df_img_info_wo_class2['width_crop'], df_img_info_wo_class2['height_crop'] =\\\n",
    "zip(*df_img_info_wo_class2.progress_apply(\n",
    "    lambda row: cropping_images(row['path'], row['x'], row['y'],\n",
    "                               row['width'], row['height']), axis=1))"
   ]
  },
  {
   "cell_type": "code",
   "execution_count": 6,
   "metadata": {
    "ExecuteTime": {
     "end_time": "2019-11-22T03:54:00.653575Z",
     "start_time": "2019-11-22T03:53:57.015595Z"
    }
   },
   "outputs": [
    {
     "data": {
      "text/html": [
       "<div>\n",
       "<style scoped>\n",
       "    .dataframe tbody tr th:only-of-type {\n",
       "        vertical-align: middle;\n",
       "    }\n",
       "\n",
       "    .dataframe tbody tr th {\n",
       "        vertical-align: top;\n",
       "    }\n",
       "\n",
       "    .dataframe thead th {\n",
       "        text-align: right;\n",
       "    }\n",
       "</style>\n",
       "<table border=\"1\" class=\"dataframe\">\n",
       "  <thead>\n",
       "    <tr style=\"text-align: right;\">\n",
       "      <th></th>\n",
       "      <th>path</th>\n",
       "      <th>x_1</th>\n",
       "      <th>y_1</th>\n",
       "      <th>x_2</th>\n",
       "      <th>y_2</th>\n",
       "      <th>class</th>\n",
       "      <th>x</th>\n",
       "      <th>y</th>\n",
       "      <th>width</th>\n",
       "      <th>height</th>\n",
       "      <th>x_crop</th>\n",
       "      <th>y_crop</th>\n",
       "      <th>width_crop</th>\n",
       "      <th>height_crop</th>\n",
       "    </tr>\n",
       "  </thead>\n",
       "  <tbody>\n",
       "    <tr>\n",
       "      <th>0</th>\n",
       "      <td>C:/darknet-master/darknet-master/build/darknet...</td>\n",
       "      <td>72</td>\n",
       "      <td>79</td>\n",
       "      <td>232</td>\n",
       "      <td>273</td>\n",
       "      <td>0</td>\n",
       "      <td>0.506667</td>\n",
       "      <td>0.586667</td>\n",
       "      <td>0.533333</td>\n",
       "      <td>0.646667</td>\n",
       "      <td>0.551020</td>\n",
       "      <td>0.518443</td>\n",
       "      <td>0.816327</td>\n",
       "      <td>0.799180</td>\n",
       "    </tr>\n",
       "    <tr>\n",
       "      <th>1</th>\n",
       "      <td>C:/darknet-master/darknet-master/build/darknet...</td>\n",
       "      <td>67</td>\n",
       "      <td>59</td>\n",
       "      <td>155</td>\n",
       "      <td>161</td>\n",
       "      <td>0</td>\n",
       "      <td>0.542799</td>\n",
       "      <td>0.366204</td>\n",
       "      <td>0.430707</td>\n",
       "      <td>0.339815</td>\n",
       "      <td>0.469952</td>\n",
       "      <td>0.514412</td>\n",
       "      <td>0.762019</td>\n",
       "      <td>0.815965</td>\n",
       "    </tr>\n",
       "    <tr>\n",
       "      <th>2</th>\n",
       "      <td>C:/darknet-master/darknet-master/build/darknet...</td>\n",
       "      <td>65</td>\n",
       "      <td>65</td>\n",
       "      <td>156</td>\n",
       "      <td>200</td>\n",
       "      <td>0</td>\n",
       "      <td>0.535714</td>\n",
       "      <td>0.441509</td>\n",
       "      <td>0.441392</td>\n",
       "      <td>0.450314</td>\n",
       "      <td>0.508446</td>\n",
       "      <td>0.510571</td>\n",
       "      <td>0.814189</td>\n",
       "      <td>0.758985</td>\n",
       "    </tr>\n",
       "    <tr>\n",
       "      <th>3</th>\n",
       "      <td>C:/darknet-master/darknet-master/build/darknet...</td>\n",
       "      <td>51</td>\n",
       "      <td>62</td>\n",
       "      <td>167</td>\n",
       "      <td>182</td>\n",
       "      <td>0</td>\n",
       "      <td>0.545000</td>\n",
       "      <td>0.488000</td>\n",
       "      <td>0.580000</td>\n",
       "      <td>0.480000</td>\n",
       "      <td>0.507576</td>\n",
       "      <td>0.518750</td>\n",
       "      <td>0.878788</td>\n",
       "      <td>0.750000</td>\n",
       "    </tr>\n",
       "    <tr>\n",
       "      <th>4</th>\n",
       "      <td>C:/darknet-master/darknet-master/build/darknet...</td>\n",
       "      <td>46</td>\n",
       "      <td>88</td>\n",
       "      <td>166</td>\n",
       "      <td>262</td>\n",
       "      <td>0</td>\n",
       "      <td>0.530059</td>\n",
       "      <td>0.583008</td>\n",
       "      <td>0.599707</td>\n",
       "      <td>0.580078</td>\n",
       "      <td>0.508539</td>\n",
       "      <td>0.520356</td>\n",
       "      <td>0.777989</td>\n",
       "      <td>0.755725</td>\n",
       "    </tr>\n",
       "  </tbody>\n",
       "</table>\n",
       "</div>"
      ],
      "text/plain": [
       "                                                path  x_1  y_1  x_2  y_2  \\\n",
       "0  C:/darknet-master/darknet-master/build/darknet...   72   79  232  273   \n",
       "1  C:/darknet-master/darknet-master/build/darknet...   67   59  155  161   \n",
       "2  C:/darknet-master/darknet-master/build/darknet...   65   65  156  200   \n",
       "3  C:/darknet-master/darknet-master/build/darknet...   51   62  167  182   \n",
       "4  C:/darknet-master/darknet-master/build/darknet...   46   88  166  262   \n",
       "\n",
       "   class         x         y     width    height    x_crop    y_crop  \\\n",
       "0      0  0.506667  0.586667  0.533333  0.646667  0.551020  0.518443   \n",
       "1      0  0.542799  0.366204  0.430707  0.339815  0.469952  0.514412   \n",
       "2      0  0.535714  0.441509  0.441392  0.450314  0.508446  0.510571   \n",
       "3      0  0.545000  0.488000  0.580000  0.480000  0.507576  0.518750   \n",
       "4      0  0.530059  0.583008  0.599707  0.580078  0.508539  0.520356   \n",
       "\n",
       "   width_crop  height_crop  \n",
       "0    0.816327     0.799180  \n",
       "1    0.762019     0.815965  \n",
       "2    0.814189     0.758985  \n",
       "3    0.878788     0.750000  \n",
       "4    0.777989     0.755725  "
      ]
     },
     "execution_count": 6,
     "metadata": {},
     "output_type": "execute_result"
    }
   ],
   "source": [
    "df_img_info_wo_class2.to_csv('data_compiled/df_img_info_wo_class2_corpped.csv', index=False)\n",
    "df_img_info_wo_class2.head()"
   ]
  },
  {
   "cell_type": "code",
   "execution_count": null,
   "metadata": {
    "ExecuteTime": {
     "end_time": "2019-11-19T16:18:19.884357Z",
     "start_time": "2019-11-19T16:15:10.394273Z"
    }
   },
   "outputs": [],
   "source": [
    "df_img_info['class'] = df_img_info['class'].astype(str)\n",
    "for path, row in zip(df_img_info['path'].values , df_img_info[['class', 'x', 'y', 'width', 'height']].values):\n",
    "    file_name = path[:-3] + 'txt'\n",
    "    row.tofile(file_name, sep=\" \", format=\"%s\")"
   ]
  },
  {
   "cell_type": "code",
   "execution_count": 8,
   "metadata": {
    "ExecuteTime": {
     "end_time": "2019-11-22T04:17:09.966460Z",
     "start_time": "2019-11-22T04:14:13.311448Z"
    }
   },
   "outputs": [
    {
     "name": "stderr",
     "output_type": "stream",
     "text": [
      "C:\\Users\\jkiani\\AppData\\Local\\Continuum\\anaconda3\\envs\\tf-2\\lib\\site-packages\\ipykernel_launcher.py:1: SettingWithCopyWarning: \n",
      "A value is trying to be set on a copy of a slice from a DataFrame.\n",
      "Try using .loc[row_indexer,col_indexer] = value instead\n",
      "\n",
      "See the caveats in the documentation: http://pandas.pydata.org/pandas-docs/stable/user_guide/indexing.html#returning-a-view-versus-a-copy\n",
      "  \"\"\"Entry point for launching an IPython kernel.\n"
     ]
    }
   ],
   "source": [
    "df_img_info_wo_class2['class'] = df_img_info_wo_class2['class'].astype(str)\n",
    "for path, row in zip(df_img_info_wo_class2['path'].values , df_img_info_wo_class2[['class', 'x_crop', 'y_crop', 'width_crop', 'height_crop']].values):\n",
    "    file_name = path[:-4] + '_crop.txt'\n",
    "    row.tofile(file_name, sep=\" \", format=\"%s\")"
   ]
  },
  {
   "cell_type": "code",
   "execution_count": null,
   "metadata": {
    "ExecuteTime": {
     "end_time": "2019-11-21T23:28:59.463410Z",
     "start_time": "2019-11-21T23:28:59.280211Z"
    }
   },
   "outputs": [],
   "source": [
    "idx = 5\n",
    "draw_boxes(df_img_info.iloc[idx]['path'], list(df_img_info.iloc[idx][['x','y','width','height']]))\n",
    "#draw_boxes(df_img_info.iloc[idx]['path'], list(df_img_info.iloc[idx][['x_1','y_1','x_2','y_2']]), True)\n",
    "print(\"Class is\", df_img_info.iloc[idx]['class'])\n",
    "\n",
    "\n",
    "df_img_info.iloc[idx]['path']"
   ]
  },
  {
   "cell_type": "markdown",
   "metadata": {
    "ExecuteTime": {
     "end_time": "2019-11-17T04:11:04.092118Z",
     "start_time": "2019-11-17T04:11:04.088170Z"
    }
   },
   "source": [
    "# Removing Class 2 (full-body)"
   ]
  },
  {
   "cell_type": "code",
   "execution_count": null,
   "metadata": {
    "ExecuteTime": {
     "end_time": "2019-11-17T21:51:39.175437Z",
     "start_time": "2019-11-17T21:51:39.142624Z"
    }
   },
   "outputs": [],
   "source": [
    "df_img_info_wo_class2 = df_img_info.loc[df_img_info['class'] != 2]"
   ]
  },
  {
   "cell_type": "code",
   "execution_count": null,
   "metadata": {
    "ExecuteTime": {
     "end_time": "2019-11-17T21:51:57.035020Z",
     "start_time": "2019-11-17T21:51:57.022083Z"
    }
   },
   "outputs": [],
   "source": [
    "df_img_info_wo_class2['class'].value_counts()"
   ]
  },
  {
   "cell_type": "code",
   "execution_count": 16,
   "metadata": {
    "ExecuteTime": {
     "end_time": "2019-11-22T04:29:18.580461Z",
     "start_time": "2019-11-22T04:29:18.516740Z"
    }
   },
   "outputs": [],
   "source": [
    "df_img_info_wo_class2 = df_img_info_wo_class2.loc[df_img_info_wo_class2['height_crop'] < 1]\n",
    "df_img_info_wo_class2 = df_img_info_wo_class2.loc[df_img_info_wo_class2['width_crop'] < 1]"
   ]
  },
  {
   "cell_type": "code",
   "execution_count": 20,
   "metadata": {
    "ExecuteTime": {
     "end_time": "2019-11-22T04:30:19.103977Z",
     "start_time": "2019-11-22T04:30:19.091071Z"
    }
   },
   "outputs": [
    {
     "data": {
      "text/html": [
       "<div>\n",
       "<style scoped>\n",
       "    .dataframe tbody tr th:only-of-type {\n",
       "        vertical-align: middle;\n",
       "    }\n",
       "\n",
       "    .dataframe tbody tr th {\n",
       "        vertical-align: top;\n",
       "    }\n",
       "\n",
       "    .dataframe thead th {\n",
       "        text-align: right;\n",
       "    }\n",
       "</style>\n",
       "<table border=\"1\" class=\"dataframe\">\n",
       "  <thead>\n",
       "    <tr style=\"text-align: right;\">\n",
       "      <th></th>\n",
       "      <th>path</th>\n",
       "      <th>x_1</th>\n",
       "      <th>y_1</th>\n",
       "      <th>x_2</th>\n",
       "      <th>y_2</th>\n",
       "      <th>class</th>\n",
       "      <th>x</th>\n",
       "      <th>y</th>\n",
       "      <th>width</th>\n",
       "      <th>height</th>\n",
       "      <th>x_crop</th>\n",
       "      <th>y_crop</th>\n",
       "      <th>width_crop</th>\n",
       "      <th>height_crop</th>\n",
       "    </tr>\n",
       "  </thead>\n",
       "  <tbody>\n",
       "  </tbody>\n",
       "</table>\n",
       "</div>"
      ],
      "text/plain": [
       "Empty DataFrame\n",
       "Columns: [path, x_1, y_1, x_2, y_2, class, x, y, width, height, x_crop, y_crop, width_crop, height_crop]\n",
       "Index: []"
      ]
     },
     "execution_count": 20,
     "metadata": {},
     "output_type": "execute_result"
    }
   ],
   "source": [
    "df_img_info_wo_class2.loc[df_img_info_wo_class2['height_crop'] > 1]"
   ]
  },
  {
   "cell_type": "code",
   "execution_count": 28,
   "metadata": {
    "ExecuteTime": {
     "end_time": "2019-11-22T04:33:34.826590Z",
     "start_time": "2019-11-22T04:33:34.527892Z"
    }
   },
   "outputs": [],
   "source": [
    "df_train, df_test = train_test_split(df_img_info_wo_class2, train_size = 0.9, stratify = df_img_info_wo_class2['class'])"
   ]
  },
  {
   "cell_type": "code",
   "execution_count": 30,
   "metadata": {
    "ExecuteTime": {
     "end_time": "2019-11-22T04:34:08.048041Z",
     "start_time": "2019-11-22T04:34:07.451654Z"
    }
   },
   "outputs": [],
   "source": [
    "np.savetxt('data_compiled/train_cloth_crop.txt', df_train['new_path'].values, fmt='%s')\n",
    "np.savetxt('data_compiled/test_cloth_crop.txt', df_test['new_path'].values, fmt='%s')"
   ]
  },
  {
   "cell_type": "code",
   "execution_count": 24,
   "metadata": {
    "ExecuteTime": {
     "end_time": "2019-11-22T04:31:24.396989Z",
     "start_time": "2019-11-22T04:31:24.391014Z"
    }
   },
   "outputs": [
    {
     "data": {
      "text/plain": [
       "'C:/darknet-master/darknet-master/build/darknet/x64/data/cloth/Sheer_Pleated-Front_Blouse/img_00000001.jpg'"
      ]
     },
     "execution_count": 24,
     "metadata": {},
     "output_type": "execute_result"
    }
   ],
   "source": [
    "df_img_info_wo_class2.iloc[0]['path']"
   ]
  },
  {
   "cell_type": "code",
   "execution_count": 25,
   "metadata": {
    "ExecuteTime": {
     "end_time": "2019-11-22T04:33:02.244154Z",
     "start_time": "2019-11-22T04:33:02.135630Z"
    }
   },
   "outputs": [],
   "source": [
    "df_img_info_wo_class2['new_path'] = df_img_info_wo_class2['path'].apply(lambda x:x.replace('.jpg', '_crop.jpg'))"
   ]
  },
  {
   "cell_type": "code",
   "execution_count": 27,
   "metadata": {
    "ExecuteTime": {
     "end_time": "2019-11-22T04:33:19.397965Z",
     "start_time": "2019-11-22T04:33:19.390996Z"
    }
   },
   "outputs": [
    {
     "data": {
      "text/plain": [
       "'C:/darknet-master/darknet-master/build/darknet/x64/data/cloth/Sheer_Pleated-Front_Blouse/img_00000001_crop.jpg'"
      ]
     },
     "execution_count": 27,
     "metadata": {},
     "output_type": "execute_result"
    }
   ],
   "source": [
    "df_img_info_wo_class2.iloc[0]['new_path']"
   ]
  },
  {
   "cell_type": "code",
   "execution_count": null,
   "metadata": {},
   "outputs": [],
   "source": []
  }
 ],
 "metadata": {
  "kernelspec": {
   "display_name": "Python 3",
   "language": "python",
   "name": "python3"
  },
  "language_info": {
   "codemirror_mode": {
    "name": "ipython",
    "version": 3
   },
   "file_extension": ".py",
   "mimetype": "text/x-python",
   "name": "python",
   "nbconvert_exporter": "python",
   "pygments_lexer": "ipython3",
   "version": "3.7.1"
  },
  "toc": {
   "base_numbering": 1,
   "nav_menu": {},
   "number_sections": true,
   "sideBar": true,
   "skip_h1_title": false,
   "title_cell": "Table of Contents",
   "title_sidebar": "Contents",
   "toc_cell": false,
   "toc_position": {},
   "toc_section_display": true,
   "toc_window_display": false
  },
  "varInspector": {
   "cols": {
    "lenName": 16,
    "lenType": 16,
    "lenVar": 40
   },
   "kernels_config": {
    "python": {
     "delete_cmd_postfix": "",
     "delete_cmd_prefix": "del ",
     "library": "var_list.py",
     "varRefreshCmd": "print(var_dic_list())"
    },
    "r": {
     "delete_cmd_postfix": ") ",
     "delete_cmd_prefix": "rm(",
     "library": "var_list.r",
     "varRefreshCmd": "cat(var_dic_list()) "
    }
   },
   "types_to_exclude": [
    "module",
    "function",
    "builtin_function_or_method",
    "instance",
    "_Feature"
   ],
   "window_display": false
  }
 },
 "nbformat": 4,
 "nbformat_minor": 2
}
