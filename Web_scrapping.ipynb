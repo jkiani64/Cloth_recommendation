{
 "cells": [
  {
   "cell_type": "code",
   "execution_count": 1,
   "metadata": {
    "ExecuteTime": {
     "end_time": "2019-11-21T20:49:44.432873Z",
     "start_time": "2019-11-21T20:49:43.008879Z"
    }
   },
   "outputs": [],
   "source": [
    "%load_ext autoreload\n",
    "%autoreload 2\n",
    "import pandas as pd\n",
    "from Web_scrapping import *"
   ]
  },
  {
   "cell_type": "markdown",
   "metadata": {},
   "source": [
    "# Getting data for women clothing"
   ]
  },
  {
   "cell_type": "markdown",
   "metadata": {},
   "source": [
    "## Tops "
   ]
  },
  {
   "cell_type": "markdown",
   "metadata": {
    "ExecuteTime": {
     "end_time": "2019-11-21T18:16:45.441778Z",
     "start_time": "2019-11-21T18:16:45.410913Z"
    }
   },
   "source": [
    "### Long Sleeve"
   ]
  },
  {
   "cell_type": "code",
   "execution_count": null,
   "metadata": {
    "ExecuteTime": {
     "end_time": "2019-11-21T16:25:59.903906Z",
     "start_time": "2019-11-21T16:25:59.859745Z"
    },
    "scrolled": false
   },
   "outputs": [],
   "source": [
    "# URL_long_sleeve = 'https://www.venus.com/products.aspx?BRANCH=7~63~2052~'\n",
    "# directory_long_sleeve = 'data/venus/women/tops/long_sleeve'\n",
    "# cloth_type = 'long_sleeve'\n",
    "# Images_info_long_sleeve = getting_image_url(URL_long_sleeve,directory_long_sleeve, cloth_type)\n",
    "\n",
    "# driver.quit()\n",
    "# getting_images(Images_info_long_sleeve[306:])"
   ]
  },
  {
   "cell_type": "markdown",
   "metadata": {
    "ExecuteTime": {
     "end_time": "2019-11-21T18:02:40.692736Z",
     "start_time": "2019-11-21T18:02:40.645962Z"
    }
   },
   "source": [
    "### Cold Shoulder"
   ]
  },
  {
   "cell_type": "code",
   "execution_count": null,
   "metadata": {
    "ExecuteTime": {
     "end_time": "2019-11-21T18:16:42.257129Z",
     "start_time": "2019-11-21T18:03:56.304530Z"
    }
   },
   "outputs": [],
   "source": [
    "URL = 'https://www.venus.com/products.aspx?BRANCH=7~63~6207~'\n",
    "directory = 'data/venus/women/tops/cold_shoulder'\n",
    "cloth_type = 'cold_shoulder'\n",
    "Images_info_cold_shoulder = getting_image_url(URL,directory, cloth_type)\n",
    "print(cloth_type, ':', len(Images_info_cold_shoulder))\n",
    "getting_images(Images_info_cold_shoulder)"
   ]
  },
  {
   "cell_type": "markdown",
   "metadata": {
    "ExecuteTime": {
     "end_time": "2019-11-21T18:16:48.497098Z",
     "start_time": "2019-11-21T18:16:48.461702Z"
    }
   },
   "source": [
    "### New Trends in Women’s Tops"
   ]
  },
  {
   "cell_type": "code",
   "execution_count": null,
   "metadata": {
    "ExecuteTime": {
     "end_time": "2019-11-21T18:25:33.003380Z",
     "start_time": "2019-11-21T18:16:51.358179Z"
    }
   },
   "outputs": [],
   "source": [
    "URL = 'https://www.venus.com/products.aspx?BRANCH=7~63~6515~'\n",
    "directory = 'data/venus/women/tops/new_trend_tops'\n",
    "cloth_type = 'new_trend_tops'\n",
    "Images_info_new_trend_tops = getting_image_url(URL,directory, cloth_type)\n",
    "print(cloth_type, ':', len(Images_info_new_trend_tops))\n",
    "getting_images(Images_info_new_trend_tops)"
   ]
  },
  {
   "cell_type": "markdown",
   "metadata": {},
   "source": [
    "### Short Sleeve"
   ]
  },
  {
   "cell_type": "code",
   "execution_count": null,
   "metadata": {
    "ExecuteTime": {
     "end_time": "2019-11-21T18:58:42.387083Z",
     "start_time": "2019-11-21T18:42:13.808684Z"
    }
   },
   "outputs": [],
   "source": [
    "URL = 'https://www.venus.com/products.aspx?BRANCH=7~63~2051~'\n",
    "directory = 'data/venus/women/tops/short_sleeve'\n",
    "cloth_type = 'short_sleeve'\n",
    "Images_info_short_sleeve = getting_image_url(URL,directory, cloth_type)\n",
    "print(cloth_type, ':', len(Images_info_short_sleeve))\n",
    "getting_images(Images_info_short_sleeve)"
   ]
  },
  {
   "cell_type": "markdown",
   "metadata": {},
   "source": [
    "### Sleeveless"
   ]
  },
  {
   "cell_type": "code",
   "execution_count": null,
   "metadata": {
    "ExecuteTime": {
     "end_time": "2019-11-21T19:21:49.388565Z",
     "start_time": "2019-11-21T18:58:46.718472Z"
    }
   },
   "outputs": [],
   "source": [
    "URL = 'https://www.venus.com/products.aspx?BRANCH=7~63~2050~'\n",
    "directory = 'data/venus/women/tops/sleeveless'\n",
    "cloth_type = 'sleeveless'\n",
    "Images_info_sleeveless = getting_image_url(URL,directory, cloth_type)\n",
    "print(cloth_type, ':', len(Images_info_sleeveless))\n",
    "getting_images(Images_info_sleeveless)"
   ]
  },
  {
   "cell_type": "markdown",
   "metadata": {
    "ExecuteTime": {
     "end_time": "2019-11-21T19:21:53.332516Z",
     "start_time": "2019-11-21T19:21:53.306334Z"
    }
   },
   "source": [
    "### BODYSUITS"
   ]
  },
  {
   "cell_type": "code",
   "execution_count": null,
   "metadata": {
    "ExecuteTime": {
     "end_time": "2019-11-21T19:30:33.878515Z",
     "start_time": "2019-11-21T19:28:12.879760Z"
    }
   },
   "outputs": [],
   "source": [
    "URL = 'https://www.venus.com/products.aspx?BRANCH=7~63~6315~'\n",
    "directory = 'data/venus/women/tops/bodysuits'\n",
    "cloth_type = 'bodysuits'\n",
    "Images_info_bodysuits = getting_image_url(URL,directory, cloth_type)\n",
    "print(cloth_type, ':', len(Images_info_bodysuits))\n",
    "getting_images(Images_info_bodysuits)"
   ]
  },
  {
   "cell_type": "markdown",
   "metadata": {},
   "source": [
    "## SWEATERS"
   ]
  },
  {
   "cell_type": "markdown",
   "metadata": {
    "ExecuteTime": {
     "end_time": "2019-11-21T19:21:56.541386Z",
     "start_time": "2019-11-21T19:21:56.506480Z"
    }
   },
   "source": [
    "### cold_shoulder"
   ]
  },
  {
   "cell_type": "code",
   "execution_count": null,
   "metadata": {
    "ExecuteTime": {
     "end_time": "2019-11-21T19:35:05.623912Z",
     "start_time": "2019-11-21T19:30:44.268690Z"
    }
   },
   "outputs": [],
   "source": [
    "URL = 'https://www.venus.com/products.aspx?BRANCH=7~69~6927~'\n",
    "directory = 'data/venus/women/sweaters/cold_shoulder'\n",
    "cloth_type = 'cold_shoulder'\n",
    "Images_info_cold_shoulder = getting_image_url(URL,directory, cloth_type)\n",
    "print(cloth_type, ':', len(Images_info_cold_shoulder))\n",
    "getting_images(Images_info_cold_shoulder)"
   ]
  },
  {
   "cell_type": "markdown",
   "metadata": {},
   "source": [
    "### Cardigan Sweaters & Dusters"
   ]
  },
  {
   "cell_type": "code",
   "execution_count": null,
   "metadata": {
    "ExecuteTime": {
     "end_time": "2019-11-21T19:41:50.769331Z",
     "start_time": "2019-11-21T19:35:11.733437Z"
    }
   },
   "outputs": [],
   "source": [
    "URL = 'https://www.venus.com/products.aspx?BRANCH=7~69~3008~'\n",
    "directory = 'data/venus/women/sweaters/cardigan_sweaters_dusters'\n",
    "cloth_type = 'cardigan_sweaters_dusters'\n",
    "Images_info_cardigan_sweaters_dusters = getting_image_url(URL,directory, cloth_type)\n",
    "print(cloth_type, ':', len(Images_info_cardigan_sweaters_dusters))\n",
    "getting_images(Images_info_cardigan_sweaters_dusters)"
   ]
  },
  {
   "cell_type": "markdown",
   "metadata": {
    "ExecuteTime": {
     "end_time": "2019-11-21T19:21:59.459839Z",
     "start_time": "2019-11-21T19:21:59.433625Z"
    }
   },
   "source": [
    "### Turtleneck & Mock Neck Sweaters"
   ]
  },
  {
   "cell_type": "code",
   "execution_count": null,
   "metadata": {
    "ExecuteTime": {
     "end_time": "2019-11-21T19:44:36.025705Z",
     "start_time": "2019-11-21T19:41:55.917492Z"
    }
   },
   "outputs": [],
   "source": [
    "URL = 'https://www.venus.com/products.aspx?BRANCH=7~69~6928~'\n",
    "directory = 'data/venus/women/sweaters/turtleneck_mock_neck_sweaters'\n",
    "cloth_type = 'turtleneck_mock_neck_sweaters'\n",
    "Images_info_turtleneck_mock_neck_sweaters = getting_image_url(URL,directory, cloth_type)\n",
    "print(cloth_type, ':', len(Images_info_turtleneck_mock_neck_sweaters))\n",
    "getting_images(Images_info_turtleneck_mock_neck_sweaters)"
   ]
  },
  {
   "cell_type": "markdown",
   "metadata": {},
   "source": [
    "### Pullover"
   ]
  },
  {
   "cell_type": "code",
   "execution_count": null,
   "metadata": {
    "ExecuteTime": {
     "end_time": "2019-11-21T19:56:34.069754Z",
     "start_time": "2019-11-21T19:44:40.518145Z"
    }
   },
   "outputs": [],
   "source": [
    "URL =  'https://www.venus.com/products.aspx?BRANCH=7~69~6930~'\n",
    "directory = 'data/venus/women/sweaters/pullover'\n",
    "cloth_type = 'pullover'\n",
    "Images_info_pullover = getting_image_url(URL,directory, cloth_type)\n",
    "print(cloth_type, ':', len(Images_info_pullover))\n",
    "getting_images(Images_info_pullover)"
   ]
  },
  {
   "cell_type": "markdown",
   "metadata": {},
   "source": [
    "### Trending Women’s Sweaters"
   ]
  },
  {
   "cell_type": "code",
   "execution_count": null,
   "metadata": {
    "ExecuteTime": {
     "end_time": "2019-11-21T20:00:41.061496Z",
     "start_time": "2019-11-21T19:56:37.365096Z"
    }
   },
   "outputs": [],
   "source": [
    "URL =  'https://www.venus.com/products.aspx?BRANCH=7~69~6519~'\n",
    "directory = 'data/venus/women/sweaters/new_trend_sweaters'\n",
    "cloth_type = 'new_trend_sweaters'\n",
    "Images_info_new_trend_sweaters = getting_image_url(URL,directory, cloth_type)\n",
    "print(cloth_type, ':', len(Images_info_new_trend_sweaters))\n",
    "getting_images(Images_info_new_trend_sweaters)"
   ]
  },
  {
   "cell_type": "markdown",
   "metadata": {},
   "source": [
    "## JACKETS & COATS"
   ]
  },
  {
   "cell_type": "markdown",
   "metadata": {},
   "source": [
    "### Blazers"
   ]
  },
  {
   "cell_type": "code",
   "execution_count": null,
   "metadata": {
    "ExecuteTime": {
     "end_time": "2019-11-21T20:14:24.928166Z",
     "start_time": "2019-11-21T20:12:29.732000Z"
    }
   },
   "outputs": [],
   "source": [
    "URL =  'https://www.venus.com/products.aspx?BRANCH=7~73~4037~'\n",
    "directory = 'data/venus/women/jackets_coats/blazers'\n",
    "cloth_type = 'blazers'\n",
    "Images_info_blazers = getting_image_url(URL,directory, cloth_type)\n",
    "print(cloth_type, ':', len(Images_info_blazers))\n",
    "getting_images(Images_info_blazers)"
   ]
  },
  {
   "cell_type": "markdown",
   "metadata": {},
   "source": [
    "### Denim"
   ]
  },
  {
   "cell_type": "code",
   "execution_count": null,
   "metadata": {
    "ExecuteTime": {
     "end_time": "2019-11-21T20:16:08.726026Z",
     "start_time": "2019-11-21T20:14:28.799902Z"
    }
   },
   "outputs": [],
   "source": [
    "URL =  'https://www.venus.com/products.aspx?BRANCH=7~73~3058~'\n",
    "directory = 'data/venus/women/jackets_coats/denim'\n",
    "cloth_type = 'denim'\n",
    "Images_info_denim = getting_image_url(URL,directory, cloth_type)\n",
    "print(cloth_type, ':', len(Images_info_denim))\n",
    "getting_images(Images_info_denim)"
   ]
  },
  {
   "cell_type": "markdown",
   "metadata": {},
   "source": [
    "### Jackets"
   ]
  },
  {
   "cell_type": "code",
   "execution_count": null,
   "metadata": {
    "ExecuteTime": {
     "end_time": "2019-11-21T20:25:37.865287Z",
     "start_time": "2019-11-21T20:16:12.384740Z"
    }
   },
   "outputs": [],
   "source": [
    "URL =  'https://www.venus.com/products.aspx?BRANCH=7~73~4038~'\n",
    "directory = 'data/venus/women/jackets_coats/jackets'\n",
    "cloth_type = 'jackets'\n",
    "Images_info_jackets = getting_image_url(URL,directory, cloth_type)\n",
    "print(cloth_type, ':', len(Images_info_jackets))\n",
    "getting_images(Images_info_jackets)"
   ]
  },
  {
   "cell_type": "markdown",
   "metadata": {
    "ExecuteTime": {
     "end_time": "2019-11-21T20:00:44.188703Z",
     "start_time": "2019-11-21T20:00:44.159742Z"
    }
   },
   "source": [
    "### Coats"
   ]
  },
  {
   "cell_type": "code",
   "execution_count": null,
   "metadata": {
    "ExecuteTime": {
     "end_time": "2019-11-21T20:33:16.474345Z",
     "start_time": "2019-11-21T20:25:41.395609Z"
    }
   },
   "outputs": [],
   "source": [
    "URL =  'https://www.venus.com/products.aspx?BRANCH=7~73~5032~'\n",
    "directory = 'data/venus/women/jackets_coats/coats'\n",
    "cloth_type = 'coats'\n",
    "Images_info_coats = getting_image_url(URL,directory, cloth_type)\n",
    "print(cloth_type, ':', len(Images_info_coats))\n",
    "getting_images(Images_info_coats)"
   ]
  },
  {
   "cell_type": "markdown",
   "metadata": {},
   "source": [
    "### Trending Jackets & Coatsm"
   ]
  },
  {
   "cell_type": "code",
   "execution_count": null,
   "metadata": {
    "ExecuteTime": {
     "end_time": "2019-11-21T20:38:59.276907Z",
     "start_time": "2019-11-21T20:33:21.455561Z"
    }
   },
   "outputs": [],
   "source": [
    "URL =  'https://www.venus.com/products.aspx?BRANCH=7~73~5032~'\n",
    "directory = 'data/venus/women/jackets_coats/new_trend_jackets'\n",
    "cloth_type = 'new_trend_jackets'\n",
    "Images_info_new_trend_jackets = getting_image_url(URL,directory, cloth_type)\n",
    "print(cloth_type, ':', len(Images_info_new_trend_jackets))\n",
    "getting_images(Images_info_new_trend_jackets)"
   ]
  },
  {
   "cell_type": "markdown",
   "metadata": {
    "ExecuteTime": {
     "end_time": "2019-11-21T20:00:47.649687Z",
     "start_time": "2019-11-21T20:00:47.615846Z"
    }
   },
   "source": [
    "## Jeans"
   ]
  },
  {
   "cell_type": "code",
   "execution_count": 2,
   "metadata": {
    "ExecuteTime": {
     "end_time": "2019-11-21T21:01:25.186054Z",
     "start_time": "2019-11-21T20:51:13.307395Z"
    }
   },
   "outputs": [
    {
     "name": "stdout",
     "output_type": "stream",
     "text": [
      "\n",
      "Looking for [chromedriver 78.0.3904.105 mac64] driver in cache \n",
      "File found in cache by path [/Users/jalalkiani/.wdm/drivers/chromedriver/78.0.3904.105/mac64/chromedriver]\n",
      "jeans : 70\n",
      "\n",
      "Looking for [chromedriver 78.0.3904.105 mac64] driver in cache \n",
      "File found in cache by path [/Users/jalalkiani/.wdm/drivers/chromedriver/78.0.3904.105/mac64/chromedriver]\n"
     ]
    },
    {
     "name": "stderr",
     "output_type": "stream",
     "text": [
      "100%|██████████| 70/70 [09:54<00:00,  9.19s/it]\n"
     ]
    },
    {
     "name": "stdout",
     "output_type": "stream",
     "text": [
      "All images are downloaded and saved\n"
     ]
    }
   ],
   "source": [
    "URL =  'https://www.venus.com/products.aspx?BRANCH=7~2999~'\n",
    "directory = 'data/venus/women/jeans'\n",
    "cloth_type = 'jeans'\n",
    "Images_info_jeans = getting_image_url(URL,directory, cloth_type)\n",
    "print(cloth_type, ':', len(Images_info_jeans))\n",
    "getting_images(Images_info_jeans)"
   ]
  },
  {
   "cell_type": "markdown",
   "metadata": {
    "ExecuteTime": {
     "end_time": "2019-11-21T20:00:50.632939Z",
     "start_time": "2019-11-21T20:00:50.602935Z"
    }
   },
   "source": [
    "## PANTS"
   ]
  },
  {
   "cell_type": "code",
   "execution_count": 3,
   "metadata": {
    "ExecuteTime": {
     "end_time": "2019-11-21T21:12:43.880711Z",
     "start_time": "2019-11-21T21:01:29.752396Z"
    }
   },
   "outputs": [
    {
     "name": "stdout",
     "output_type": "stream",
     "text": [
      "\n",
      "Looking for [chromedriver 78.0.3904.105 mac64] driver in cache \n",
      "File found in cache by path [/Users/jalalkiani/.wdm/drivers/chromedriver/78.0.3904.105/mac64/chromedriver]\n",
      "pans : 104\n",
      "\n",
      "Looking for [chromedriver 78.0.3904.105 mac64] driver in cache \n",
      "File found in cache by path [/Users/jalalkiani/.wdm/drivers/chromedriver/78.0.3904.105/mac64/chromedriver]\n"
     ]
    },
    {
     "name": "stderr",
     "output_type": "stream",
     "text": [
      "100%|██████████| 104/104 [10:55<00:00,  5.90s/it]\n"
     ]
    },
    {
     "name": "stdout",
     "output_type": "stream",
     "text": [
      "All images are downloaded and saved\n"
     ]
    }
   ],
   "source": [
    "URL =  'https://www.venus.com/products.aspx?BRANCH=7~70~'\n",
    "directory = 'data/venus/women/pans'\n",
    "cloth_type = 'pans'\n",
    "Images_info_pans = getting_image_url(URL,directory, cloth_type)\n",
    "print(cloth_type, ':', len(Images_info_pans))\n",
    "getting_images(Images_info_pans)"
   ]
  },
  {
   "cell_type": "markdown",
   "metadata": {
    "ExecuteTime": {
     "end_time": "2019-11-21T20:39:09.357014Z",
     "start_time": "2019-11-21T20:39:09.215447Z"
    }
   },
   "source": [
    "## Shorts and Skirts"
   ]
  },
  {
   "cell_type": "markdown",
   "metadata": {},
   "source": [
    "### Maxi Skirts"
   ]
  },
  {
   "cell_type": "code",
   "execution_count": 4,
   "metadata": {
    "ExecuteTime": {
     "end_time": "2019-11-21T21:14:29.571219Z",
     "start_time": "2019-11-21T21:12:47.173231Z"
    }
   },
   "outputs": [
    {
     "name": "stdout",
     "output_type": "stream",
     "text": [
      "\n",
      "Looking for [chromedriver 78.0.3904.105 mac64] driver in cache \n",
      "File found in cache by path [/Users/jalalkiani/.wdm/drivers/chromedriver/78.0.3904.105/mac64/chromedriver]\n",
      "maxi_skirts : 15\n",
      "\n",
      "Looking for [chromedriver 78.0.3904.105 mac64] driver in cache \n",
      "File found in cache by path [/Users/jalalkiani/.wdm/drivers/chromedriver/78.0.3904.105/mac64/chromedriver]\n"
     ]
    },
    {
     "name": "stderr",
     "output_type": "stream",
     "text": [
      "100%|██████████| 15/15 [01:33<00:00,  6.30s/it]\n"
     ]
    },
    {
     "name": "stdout",
     "output_type": "stream",
     "text": [
      "All images are downloaded and saved\n"
     ]
    }
   ],
   "source": [
    "URL =  'https://www.venus.com/products.aspx?BRANCH=7~71~4411~'\n",
    "directory = 'data/venus/women/shorts_skirts/maxi_skirts'\n",
    "cloth_type = 'maxi_skirts'\n",
    "Images_info_maxi_skirts = getting_image_url(URL,directory, cloth_type)\n",
    "print(cloth_type, ':', len(Images_info_maxi_skirts))\n",
    "getting_images(Images_info_maxi_skirts)"
   ]
  },
  {
   "cell_type": "markdown",
   "metadata": {
    "ExecuteTime": {
     "end_time": "2019-11-21T20:39:16.844681Z",
     "start_time": "2019-11-21T20:39:16.803257Z"
    }
   },
   "source": [
    "### Skirts"
   ]
  },
  {
   "cell_type": "code",
   "execution_count": 5,
   "metadata": {
    "ExecuteTime": {
     "end_time": "2019-11-21T21:22:04.950437Z",
     "start_time": "2019-11-21T21:14:32.801574Z"
    }
   },
   "outputs": [
    {
     "name": "stdout",
     "output_type": "stream",
     "text": [
      "\n",
      "Looking for [chromedriver 78.0.3904.105 mac64] driver in cache \n",
      "File found in cache by path [/Users/jalalkiani/.wdm/drivers/chromedriver/78.0.3904.105/mac64/chromedriver]\n",
      "skirts : 71\n",
      "\n",
      "Looking for [chromedriver 78.0.3904.105 mac64] driver in cache \n",
      "File found in cache by path [/Users/jalalkiani/.wdm/drivers/chromedriver/78.0.3904.105/mac64/chromedriver]\n"
     ]
    },
    {
     "name": "stderr",
     "output_type": "stream",
     "text": [
      "100%|██████████| 71/71 [07:18<00:00,  5.70s/it]\n"
     ]
    },
    {
     "name": "stdout",
     "output_type": "stream",
     "text": [
      "All images are downloaded and saved\n"
     ]
    }
   ],
   "source": [
    "URL =  'https://www.venus.com/products.aspx?BRANCH=7~71~2055~'\n",
    "directory = 'data/venus/women/shorts_skirts/skirts'\n",
    "cloth_type = 'skirts'\n",
    "Images_info_Skirts = getting_image_url(URL,directory, cloth_type)\n",
    "print(cloth_type, ':', len(Images_info_Skirts))\n",
    "getting_images(Images_info_Skirts)"
   ]
  },
  {
   "cell_type": "markdown",
   "metadata": {},
   "source": [
    "### Shorts"
   ]
  },
  {
   "cell_type": "code",
   "execution_count": 6,
   "metadata": {
    "ExecuteTime": {
     "end_time": "2019-11-21T21:26:55.138384Z",
     "start_time": "2019-11-21T21:22:08.241538Z"
    }
   },
   "outputs": [
    {
     "name": "stdout",
     "output_type": "stream",
     "text": [
      "\n",
      "Looking for [chromedriver 78.0.3904.105 mac64] driver in cache \n",
      "File found in cache by path [/Users/jalalkiani/.wdm/drivers/chromedriver/78.0.3904.105/mac64/chromedriver]\n",
      "shorts : 71\n",
      "\n",
      "Looking for [chromedriver 78.0.3904.105 mac64] driver in cache \n",
      "File found in cache by path [/Users/jalalkiani/.wdm/drivers/chromedriver/78.0.3904.105/mac64/chromedriver]\n"
     ]
    },
    {
     "name": "stderr",
     "output_type": "stream",
     "text": [
      "100%|██████████| 71/71 [04:34<00:00,  3.38s/it]\n"
     ]
    },
    {
     "name": "stdout",
     "output_type": "stream",
     "text": [
      "All images are downloaded and saved\n"
     ]
    }
   ],
   "source": [
    "URL =  'https://www.venus.com/products.aspx?BRANCH=7~71~2055~'\n",
    "directory = 'data/venus/women/shorts_skirts/shorts'\n",
    "cloth_type = 'shorts'\n",
    "Images_info_shorts = getting_image_url(URL,directory, cloth_type)\n",
    "print(cloth_type, ':', len(Images_info_shorts))\n",
    "getting_images(Images_info_shorts)"
   ]
  },
  {
   "cell_type": "markdown",
   "metadata": {},
   "source": [
    "## LOUNGEWEAR"
   ]
  },
  {
   "cell_type": "code",
   "execution_count": 7,
   "metadata": {
    "ExecuteTime": {
     "end_time": "2019-11-21T21:29:58.431160Z",
     "start_time": "2019-11-21T21:26:58.319620Z"
    }
   },
   "outputs": [
    {
     "name": "stdout",
     "output_type": "stream",
     "text": [
      "\n",
      "Looking for [chromedriver 78.0.3904.105 mac64] driver in cache \n",
      "File found in cache by path [/Users/jalalkiani/.wdm/drivers/chromedriver/78.0.3904.105/mac64/chromedriver]\n",
      "loungewear : 28\n",
      "\n",
      "Looking for [chromedriver 78.0.3904.105 mac64] driver in cache \n",
      "File found in cache by path [/Users/jalalkiani/.wdm/drivers/chromedriver/78.0.3904.105/mac64/chromedriver]\n"
     ]
    },
    {
     "name": "stderr",
     "output_type": "stream",
     "text": [
      "100%|██████████| 28/28 [02:50<00:00,  5.99s/it]\n"
     ]
    },
    {
     "name": "stdout",
     "output_type": "stream",
     "text": [
      "All images are downloaded and saved\n"
     ]
    }
   ],
   "source": [
    "URL =  'https://www.venus.com/products.aspx?BRANCH=7~71~2056~'\n",
    "directory = 'data/venus/women/loungewear'\n",
    "cloth_type = 'loungewear'\n",
    "Images_info_loungewear = getting_image_url(URL,directory, cloth_type)\n",
    "print(cloth_type, ':', len(Images_info_loungewear))\n",
    "getting_images(Images_info_loungewear)"
   ]
  },
  {
   "cell_type": "code",
   "execution_count": null,
   "metadata": {
    "ExecuteTime": {
     "end_time": "2019-11-22T15:02:08.300302Z",
     "start_time": "2019-11-22T15:02:07.794416Z"
    }
   },
   "outputs": [],
   "source": []
  },
  {
   "cell_type": "code",
   "execution_count": null,
   "metadata": {},
   "outputs": [],
   "source": []
  }
 ],
 "metadata": {
  "kernelspec": {
   "display_name": "Python 3",
   "language": "python",
   "name": "python3"
  },
  "language_info": {
   "codemirror_mode": {
    "name": "ipython",
    "version": 3
   },
   "file_extension": ".py",
   "mimetype": "text/x-python",
   "name": "python",
   "nbconvert_exporter": "python",
   "pygments_lexer": "ipython3",
   "version": "3.7.1"
  },
  "toc": {
   "base_numbering": 1,
   "nav_menu": {},
   "number_sections": true,
   "sideBar": true,
   "skip_h1_title": false,
   "title_cell": "Table of Contents",
   "title_sidebar": "Contents",
   "toc_cell": false,
   "toc_position": {},
   "toc_section_display": true,
   "toc_window_display": false
  },
  "varInspector": {
   "cols": {
    "lenName": 16,
    "lenType": 16,
    "lenVar": 40
   },
   "kernels_config": {
    "python": {
     "delete_cmd_postfix": "",
     "delete_cmd_prefix": "del ",
     "library": "var_list.py",
     "varRefreshCmd": "print(var_dic_list())"
    },
    "r": {
     "delete_cmd_postfix": ") ",
     "delete_cmd_prefix": "rm(",
     "library": "var_list.r",
     "varRefreshCmd": "cat(var_dic_list()) "
    }
   },
   "types_to_exclude": [
    "module",
    "function",
    "builtin_function_or_method",
    "instance",
    "_Feature"
   ],
   "window_display": false
  }
 },
 "nbformat": 4,
 "nbformat_minor": 2
}
